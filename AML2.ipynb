{
  "nbformat": 4,
  "nbformat_minor": 0,
  "metadata": {
    "colab": {
      "provenance": []
    },
    "kernelspec": {
      "name": "python3",
      "display_name": "Python 3"
    },
    "language_info": {
      "name": "python"
    }
  },
  "cells": [
    {
      "cell_type": "markdown",
      "source": [
        "Initially Load the packages required for the program"
      ],
      "metadata": {
        "id": "i3jTiqtbp6dF"
      }
    },
    {
      "cell_type": "code",
      "execution_count": 1,
      "metadata": {
        "id": "JWflQxnnpvPx"
      },
      "outputs": [],
      "source": [
        "# Initially Loading of packages \n",
        "import numpy as np\n",
        "from tensorflow.keras.datasets import imdb\n",
        "from tensorflow.keras.preprocessing import sequence\n",
        "from sklearn.model_selection import train_test_split\n",
        "from keras.preprocessing.text import Tokenizer\n"
      ]
    },
    {
      "cell_type": "markdown",
      "source": [
        "Loading the IMDB dataset"
      ],
      "metadata": {
        "id": "E4Ltw1BCqG6w"
      }
    },
    {
      "cell_type": "code",
      "source": [
        "# Load IMDB dataset\n",
        "max_features = 10000\n",
        "(X_train, y_train), (X_test, y_test) = imdb.load_data(num_words=max_features)\n",
        "\n",
        "# Pad sequences to a maximum review length in words\n",
        "max_words = 100\n",
        "\n",
        "# Build the model \n",
        "X_train = sequence.pad_sequences(X_train, maxlen=max_words)\n",
        "X_test = sequence.pad_sequences(X_test, maxlen=max_words)\n",
        "max([max(sequence) for sequence in X_train])"
      ],
      "metadata": {
        "colab": {
          "base_uri": "https://localhost:8080/"
        },
        "id": "hdoCG4trqLr3",
        "outputId": "6e6749f6-c170-4f3f-d321-4f9c7dc35076"
      },
      "execution_count": 2,
      "outputs": [
        {
          "output_type": "stream",
          "name": "stdout",
          "text": [
            "Downloading data from https://storage.googleapis.com/tensorflow/tf-keras-datasets/imdb.npz\n",
            "17464789/17464789 [==============================] - 1s 0us/step\n"
          ]
        },
        {
          "output_type": "execute_result",
          "data": {
            "text/plain": [
              "9999"
            ]
          },
          "metadata": {},
          "execution_count": 2
        }
      ]
    },
    {
      "cell_type": "markdown",
      "source": [
        "Function that retrives us back the text"
      ],
      "metadata": {
        "id": "Y5ChTuD6qSkh"
      }
    },
    {
      "cell_type": "code",
      "source": [
        "# Define a function to decode reviews back to text\n",
        "def decode_review(text):\n",
        "    # Define a dictionary to map integer indices to words\n",
        "    word_index = imdb.get_word_index()\n",
        "    reverse_word_index = dict([(value, key) for (key, value) in word_index.items()])\n",
        "    \n",
        "    # Decode the review text\n",
        "    return ' '.join([reverse_word_index.get(i - 3, '?') for i in text])\n",
        "\n",
        "encoded_review = X_train[0]\n",
        "decoded_review = decode_review(encoded_review)\n",
        "print(decoded_review)\n"
      ],
      "metadata": {
        "colab": {
          "base_uri": "https://localhost:8080/"
        },
        "id": "8xPXpp4gqWkP",
        "outputId": "ceb83f7a-51f4-4178-d12e-b15ce97edef1"
      },
      "execution_count": 3,
      "outputs": [
        {
          "output_type": "stream",
          "name": "stdout",
          "text": [
            "Downloading data from https://storage.googleapis.com/tensorflow/tf-keras-datasets/imdb_word_index.json\n",
            "1641221/1641221 [==============================] - 0s 0us/step\n",
            "cry at a film it must have been good and this definitely was also ? to the two little boy's that played the ? of norman and paul they were just brilliant children are often left out of the ? list i think because the stars that play them all grown up are such a big profile for the whole film but these children are amazing and should be praised for what they have done don't you think the whole story was so lovely because it was true and was someone's life after all that was shared with us all\n"
          ]
        }
      ]
    },
    {
      "cell_type": "markdown",
      "source": [
        "Sequencing the data"
      ],
      "metadata": {
        "id": "SPSxTl5Iqd9s"
      }
    },
    {
      "cell_type": "code",
      "source": [
        "import numpy as np\n",
        "\n",
        "def vectorize_sequences(sequences, dimension=10000):\n",
        "    results = np.zeros((len(sequences), dimension))\n",
        "    for i, sequence in enumerate(sequences):\n",
        "        results[i, sequence] = 1.\n",
        "    return results\n",
        "\n",
        "#Sequentializing the encoded data\n",
        "xtrain1 = vectorize_sequences(X_train)\n",
        "xtest1 = vectorize_sequences(X_test)\n",
        "xtrain1[0]\n",
        "ytrain1 = np.asarray(y_train).astype(\"float32\")\n",
        "ytest1 = np.asarray(y_test).astype(\"float32\")\n"
      ],
      "metadata": {
        "id": "oOowOX3lqdWJ"
      },
      "execution_count": 4,
      "outputs": []
    },
    {
      "cell_type": "markdown",
      "source": [
        "** **bold text**Model 1 **: 2 Hidden layers and 16 Nodes - Compiling, Setting up the sets and training my model"
      ],
      "metadata": {
        "id": "7eSB402XqmKk"
      }
    },
    {
      "cell_type": "code",
      "source": [
        "from tensorflow import keras\n",
        "from tensorflow.keras import layers\n",
        "\n",
        "model = keras.Sequential([\n",
        "    layers.Dense(16, activation=\"relu\"),\n",
        "    layers.Dense(16, activation=\"relu\"),\n",
        "    layers.Dense(1, activation=\"sigmoid\")\n",
        "])\n",
        "     \n",
        "model.compile(optimizer=\"rmsprop\",\n",
        "              loss=\"binary_crossentropy\",\n",
        "              metrics=[\"accuracy\"])\n",
        "\n",
        "from sklearn.model_selection import train_test_split\n",
        "\n",
        "x_val = xtrain1[:10000]\n",
        "partial_xtrain1 = xtrain1[10000:]\n",
        "y_val = ytrain1[:10000]\n",
        "partial_ytrain1 = ytrain1[10000:]\n",
        "\n",
        "\n",
        "history = model.fit(partial_xtrain1,\n",
        "                    partial_ytrain1,\n",
        "                    epochs=20,\n",
        "                    batch_size=512,\n",
        "                    validation_data=(x_val, y_val))\n",
        "\n",
        "\n",
        "history_diction = history.history\n",
        "history_diction.keys()"
      ],
      "metadata": {
        "colab": {
          "base_uri": "https://localhost:8080/"
        },
        "id": "oYAqLDYFqrsv",
        "outputId": "4e34935e-c2ff-4946-a8db-049816ac9fa5"
      },
      "execution_count": 5,
      "outputs": [
        {
          "output_type": "stream",
          "name": "stdout",
          "text": [
            "Epoch 1/20\n",
            "30/30 [==============================] - 4s 85ms/step - loss: 0.5737 - accuracy: 0.7519 - val_loss: 0.4695 - val_accuracy: 0.8159\n",
            "Epoch 2/20\n",
            "30/30 [==============================] - 2s 56ms/step - loss: 0.3923 - accuracy: 0.8569 - val_loss: 0.3807 - val_accuracy: 0.8390\n",
            "Epoch 3/20\n",
            "30/30 [==============================] - 1s 37ms/step - loss: 0.3064 - accuracy: 0.8845 - val_loss: 0.3565 - val_accuracy: 0.8427\n",
            "Epoch 4/20\n",
            "30/30 [==============================] - 1s 38ms/step - loss: 0.2592 - accuracy: 0.9018 - val_loss: 0.3438 - val_accuracy: 0.8468\n",
            "Epoch 5/20\n",
            "30/30 [==============================] - 1s 37ms/step - loss: 0.2219 - accuracy: 0.9171 - val_loss: 0.3543 - val_accuracy: 0.8430\n",
            "Epoch 6/20\n",
            "30/30 [==============================] - 1s 39ms/step - loss: 0.1961 - accuracy: 0.9281 - val_loss: 0.3565 - val_accuracy: 0.8441\n",
            "Epoch 7/20\n",
            "30/30 [==============================] - 1s 37ms/step - loss: 0.1727 - accuracy: 0.9399 - val_loss: 0.3851 - val_accuracy: 0.8371\n",
            "Epoch 8/20\n",
            "30/30 [==============================] - 1s 37ms/step - loss: 0.1529 - accuracy: 0.9489 - val_loss: 0.3909 - val_accuracy: 0.8387\n",
            "Epoch 9/20\n",
            "30/30 [==============================] - 1s 37ms/step - loss: 0.1341 - accuracy: 0.9578 - val_loss: 0.4086 - val_accuracy: 0.8361\n",
            "Epoch 10/20\n",
            "30/30 [==============================] - 1s 39ms/step - loss: 0.1223 - accuracy: 0.9613 - val_loss: 0.4349 - val_accuracy: 0.8340\n",
            "Epoch 11/20\n",
            "30/30 [==============================] - 2s 58ms/step - loss: 0.1058 - accuracy: 0.9697 - val_loss: 0.4540 - val_accuracy: 0.8306\n",
            "Epoch 12/20\n",
            "30/30 [==============================] - 2s 55ms/step - loss: 0.0920 - accuracy: 0.9759 - val_loss: 0.4816 - val_accuracy: 0.8288\n",
            "Epoch 13/20\n",
            "30/30 [==============================] - 1s 38ms/step - loss: 0.0812 - accuracy: 0.9793 - val_loss: 0.5109 - val_accuracy: 0.8246\n",
            "Epoch 14/20\n",
            "30/30 [==============================] - 1s 36ms/step - loss: 0.0729 - accuracy: 0.9803 - val_loss: 0.5356 - val_accuracy: 0.8241\n",
            "Epoch 15/20\n",
            "30/30 [==============================] - 1s 37ms/step - loss: 0.0622 - accuracy: 0.9860 - val_loss: 0.5759 - val_accuracy: 0.8234\n",
            "Epoch 16/20\n",
            "30/30 [==============================] - 1s 37ms/step - loss: 0.0544 - accuracy: 0.9882 - val_loss: 0.5953 - val_accuracy: 0.8197\n",
            "Epoch 17/20\n",
            "30/30 [==============================] - 1s 39ms/step - loss: 0.0460 - accuracy: 0.9919 - val_loss: 0.6257 - val_accuracy: 0.8205\n",
            "Epoch 18/20\n",
            "30/30 [==============================] - 1s 39ms/step - loss: 0.0410 - accuracy: 0.9930 - val_loss: 0.6672 - val_accuracy: 0.8172\n",
            "Epoch 19/20\n",
            "30/30 [==============================] - 1s 39ms/step - loss: 0.0359 - accuracy: 0.9929 - val_loss: 0.6834 - val_accuracy: 0.8161\n",
            "Epoch 20/20\n",
            "30/30 [==============================] - 1s 36ms/step - loss: 0.0265 - accuracy: 0.9965 - val_loss: 0.7548 - val_accuracy: 0.8069\n"
          ]
        },
        {
          "output_type": "execute_result",
          "data": {
            "text/plain": [
              "dict_keys(['loss', 'accuracy', 'val_loss', 'val_accuracy'])"
            ]
          },
          "metadata": {},
          "execution_count": 5
        }
      ]
    },
    {
      "cell_type": "markdown",
      "source": [
        "\n",
        "Graphical representation training and validation Loss"
      ],
      "metadata": {
        "id": "SYJyn6Lyq1f3"
      }
    },
    {
      "cell_type": "code",
      "source": [
        "import matplotlib.pyplot as plt\n",
        "history_diction = history.history\n",
        "loss_values = history_diction[\"loss\"]\n",
        "val_loss_values = history_diction[\"val_loss\"]\n",
        "epochs = range(1, len(loss_values) + 1)\n",
        "plt.plot(epochs, loss_values, \"r\", label=\"Training loss\")\n",
        "plt.plot(epochs, val_loss_values, \"grey\", label=\"Validation loss\")\n",
        "plt.title(\"Training and validation loss\")\n",
        "plt.xlabel(\"Epochs\")\n",
        "plt.ylabel(\"Loss\")\n",
        "plt.legend()\n",
        "plt.show()"
      ],
      "metadata": {
        "colab": {
          "base_uri": "https://localhost:8080/",
          "height": 295
        },
        "id": "JOd9o-sRq5ug",
        "outputId": "9455d298-476f-4328-d08b-fe103c90b1c0"
      },
      "execution_count": 6,
      "outputs": [
        {
          "output_type": "display_data",
          "data": {
            "text/plain": [
              "<Figure size 432x288 with 1 Axes>"
            ],
            "image/png": "[encoded data removed]"
          },
          "metadata": {
            "needs_background": "light"
          }
        }
      ]
    },
    {
      "cell_type": "markdown",
      "source": [
        "Graphical representation training and validation accuracy"
      ],
      "metadata": {
        "id": "4gZJWKhdq6MQ"
      }
    },
    {
      "cell_type": "code",
      "source": [
        "import matplotlib.pyplot as plt\n",
        "plt.clf()\n",
        "acc = history_diction[\"accuracy\"]\n",
        "val_acc = history_diction[\"val_accuracy\"]\n",
        "plt.plot(epochs, acc, \"green\", label=\"Training acc\")\n",
        "plt.plot(epochs, val_acc, \"grey\", label=\"Validation acc\")\n",
        "plt.title(\"Training and validation accuracy\")\n",
        "plt.xlabel(\"Epochs\")\n",
        "plt.ylabel(\"Accuracy\")\n",
        "plt.legend()\n",
        "plt.show()"
      ],
      "metadata": {
        "colab": {
          "base_uri": "https://localhost:8080/",
          "height": 295
        },
        "id": "0lonxSrzq63m",
        "outputId": "7bad29c6-10ea-45fd-d0c6-07a4dd3f9d8f"
      },
      "execution_count": 7,
      "outputs": [
        {
          "output_type": "display_data",
          "data": {
            "text/plain": [
              "<Figure size 432x288 with 1 Axes>"
            ],
            "image/png": "[encoded data removed]"
          },
          "metadata": {
            "needs_background": "light"
          }
        }
      ]
    },
    {
      "cell_type": "code",
      "source": [
        "model.fit(xtrain1, ytrain1, epochs=4, batch_size=512)\n"
      ],
      "metadata": {
        "colab": {
          "base_uri": "https://localhost:8080/"
        },
        "id": "Sh8y0sXVrJBt",
        "outputId": "68e13a55-1671-40c7-dc77-c6670ddde710"
      },
      "execution_count": 8,
      "outputs": [
        {
          "output_type": "stream",
          "name": "stdout",
          "text": [
            "Epoch 1/4\n",
            "49/49 [==============================] - 1s 29ms/step - loss: 0.2600 - accuracy: 0.9232\n",
            "Epoch 2/4\n",
            "49/49 [==============================] - 1s 28ms/step - loss: 0.1842 - accuracy: 0.9396\n",
            "Epoch 3/4\n",
            "49/49 [==============================] - 2s 36ms/step - loss: 0.1535 - accuracy: 0.9474\n",
            "Epoch 4/4\n",
            "49/49 [==============================] - 2s 41ms/step - loss: 0.1282 - accuracy: 0.9595\n"
          ]
        },
        {
          "output_type": "execute_result",
          "data": {
            "text/plain": [
              "<keras.callbacks.History at 0x7f55a3d0f910>"
            ]
          },
          "metadata": {},
          "execution_count": 8
        }
      ]
    },
    {
      "cell_type": "markdown",
      "source": [
        "Checking the output gained : We obtained Loss of 98% and Accuracy of 80%"
      ],
      "metadata": {
        "id": "4Bd6A65erGmI"
      }
    },
    {
      "cell_type": "code",
      "source": [
        "output = model.evaluate(xtest1, ytest1)"
      ],
      "metadata": {
        "colab": {
          "base_uri": "https://localhost:8080/"
        },
        "id": "nSqPAzZXrTf1",
        "outputId": "748f56ca-33bb-4bab-c67c-6e8aec6b5c8c"
      },
      "execution_count": 9,
      "outputs": [
        {
          "output_type": "stream",
          "name": "stdout",
          "text": [
            "782/782 [==============================] - 2s 3ms/step - loss: 0.5153 - accuracy: 0.8223\n"
          ]
        }
      ]
    },
    {
      "cell_type": "markdown",
      "source": [
        "Model 2: 3 Hidden layers and 64 Nodes *Compiling, Setting up the sets and training my model*"
      ],
      "metadata": {
        "id": "_xu1S6TArlrp"
      }
    },
    {
      "cell_type": "markdown",
      "source": [
        "Compiling the model:"
      ],
      "metadata": {
        "id": "ICjSFF0HrsYm"
      }
    },
    {
      "cell_type": "code",
      "source": [
        "from tensorflow.keras.datasets import imdb\n",
        "from tensorflow.keras.preprocessing import sequence\n",
        "from tensorflow.keras.models import Sequential\n",
        "from tensorflow.keras.layers import Embedding, Dense, Flatten\n",
        "\n",
        "max_features = 10000\n",
        "maxlen = 500\n",
        "batch_size = 32\n",
        "\n",
        "# Load the data\n",
        "(x_train, y_train), (x_test, y_test) = imdb.load_data(num_words=max_features)\n",
        "\n",
        "# Pad sequences to have a fixed length\n",
        "x_train = sequence.pad_sequences(x_train, maxlen=maxlen)\n",
        "x_test = sequence.pad_sequences(x_test, maxlen=maxlen)\n",
        "\n",
        "# Build the model\n",
        "model = Sequential()\n",
        "model.add(Embedding(max_features, 32, input_length=maxlen))\n",
        "model.add(Flatten())\n",
        "model.add(Dense(32, activation='tanh', kernel_regularizer='l2'))\n",
        "model.add(Dense(1, activation='sigmoid'))\n",
        "\n",
        "# Compile the model\n",
        "model.compile(optimizer='rmsprop', loss='binary_crossentropy', metrics=['acc'])\n",
        "\n",
        "# Train the model\n",
        "history = model.fit(x_train, y_train,\n",
        "                    epochs=10,\n",
        "                    batch_size=batch_size,\n",
        "                    validation_data=(x_test, y_test))\n",
        "\n",
        "# Evaluate the model\n",
        "loss, acc = model.evaluate(x_test, y_test, batch_size=batch_size)\n",
        "print('Test loss:', loss)\n",
        "print('Test accuracy:', acc)\n"
      ],
      "metadata": {
        "colab": {
          "base_uri": "https://localhost:8080/"
        },
        "id": "6oZcgfjYrr3v",
        "outputId": "4b2a5fc5-f4d5-4cf9-dc9b-412c47db480f"
      },
      "execution_count": 11,
      "outputs": [
        {
          "output_type": "stream",
          "name": "stdout",
          "text": [
            "Epoch 1/10\n",
            "782/782 [==============================] - 15s 18ms/step - loss: 0.5371 - acc: 0.7992 - val_loss: 0.4340 - val_acc: 0.8683\n",
            "Epoch 2/10\n",
            "782/782 [==============================] - 13s 17ms/step - loss: 0.3978 - acc: 0.8863 - val_loss: 0.4472 - val_acc: 0.8636\n",
            "Epoch 3/10\n",
            "782/782 [==============================] - 14s 17ms/step - loss: 0.3608 - acc: 0.9066 - val_loss: 0.4583 - val_acc: 0.8650\n",
            "Epoch 4/10\n",
            "782/782 [==============================] - 15s 19ms/step - loss: 0.3233 - acc: 0.9257 - val_loss: 0.4733 - val_acc: 0.8621\n",
            "Epoch 5/10\n",
            "782/782 [==============================] - 14s 18ms/step - loss: 0.2840 - acc: 0.9434 - val_loss: 0.4895 - val_acc: 0.8572\n",
            "Epoch 6/10\n",
            "782/782 [==============================] - 14s 18ms/step - loss: 0.2400 - acc: 0.9619 - val_loss: 0.5095 - val_acc: 0.8677\n",
            "Epoch 7/10\n",
            "782/782 [==============================] - 17s 22ms/step - loss: 0.2066 - acc: 0.9731 - val_loss: 0.5191 - val_acc: 0.8610\n",
            "Epoch 8/10\n",
            "782/782 [==============================] - 14s 17ms/step - loss: 0.1851 - acc: 0.9791 - val_loss: 0.5692 - val_acc: 0.8586\n",
            "Epoch 9/10\n",
            "782/782 [==============================] - 14s 17ms/step - loss: 0.1607 - acc: 0.9848 - val_loss: 0.6054 - val_acc: 0.8538\n",
            "Epoch 10/10\n",
            "782/782 [==============================] - 14s 18ms/step - loss: 0.1473 - acc: 0.9855 - val_loss: 0.6218 - val_acc: 0.8542\n",
            "782/782 [==============================] - 3s 4ms/step - loss: 0.6218 - acc: 0.8542\n",
            "Test loss: 0.6217836737632751\n",
            "Test accuracy: 0.854200005531311\n"
          ]
        }
      ]
    },
    {
      "cell_type": "markdown",
      "source": [
        "Graphical representation of training and validation loss for the data\n",
        "\n",
        "---\n",
        "\n"
      ],
      "metadata": {
        "id": "f4cNjTKVs2dh"
      }
    },
    {
      "cell_type": "code",
      "source": [
        "#Plotting the training and validation loss for the data\n",
        "import matplotlib.pyplot as plt\n",
        "\n",
        "loss = history.history['loss']\n",
        "val_loss = history.history['val_loss']\n",
        "epochs = range(1, len(loss) + 1)\n",
        "plt.plot(epochs, loss, 'grey', label='Training loss')\n",
        "plt.plot(epochs, val_loss, 'red', label='Validation loss')\n",
        "plt.title('Training and validation loss')\n",
        "plt.xlabel('Epochs')\n",
        "plt.ylabel('Loss')\n",
        "plt.legend()\n",
        "plt.show()\n"
      ],
      "metadata": {
        "colab": {
          "base_uri": "https://localhost:8080/",
          "height": 295
        },
        "id": "fybUfy6Xrp5D",
        "outputId": "b6a9e1a5-31f8-462c-9d54-51ae09162e6e"
      },
      "execution_count": 14,
      "outputs": [
        {
          "output_type": "display_data",
          "data": {
            "text/plain": [
              "<Figure size 432x288 with 1 Axes>"
            ],
            "image/png": "[encoded data removed]"
          },
          "metadata": {
            "needs_background": "light"
          }
        }
      ]
    },
    {
      "cell_type": "markdown",
      "source": [
        "Graphical representation of training and validation accuracy for the data"
      ],
      "metadata": {
        "id": "V93uQl5Ys-Iv"
      }
    },
    {
      "cell_type": "code",
      "source": [
        "#Graphical represenation of the accuracy obtained \n",
        "acc = history.history['acc']\n",
        "val_acc = history.history['val_acc']\n",
        "plt.plot(epochs, acc, 'grey', label='Training acc')\n",
        "plt.plot(epochs, val_acc, 'green', label='Validation acc')\n",
        "plt.title('Training and validation acc')\n",
        "plt.xlabel('Epochs')\n",
        "plt.ylabel('acc')\n",
        "plt.legend()\n",
        "plt.show()\n"
      ],
      "metadata": {
        "colab": {
          "base_uri": "https://localhost:8080/",
          "height": 295
        },
        "id": "1tljomFjsyOk",
        "outputId": "13d7f015-3828-4bf6-82a2-b327fc515d4a"
      },
      "execution_count": 15,
      "outputs": [
        {
          "output_type": "display_data",
          "data": {
            "text/plain": [
              "<Figure size 432x288 with 1 Axes>"
            ],
            "image/png": "[encoded data removed]"
          },
          "metadata": {
            "needs_background": "light"
          }
        }
      ]
    },
    {
      "cell_type": "markdown",
      "source": [
        "Model 3: 1 Hidden Layers and 64 Nodes *Compiling, Setting up the sets and training my model*"
      ],
      "metadata": {
        "id": "sKOxu7pKrVE1"
      }
    },
    {
      "cell_type": "code",
      "source": [
        "import tensorflow as tf\n",
        "from tensorflow.keras.datasets import imdb\n",
        "from tensorflow.keras.models import Sequential\n",
        "from tensorflow.keras.layers import Dense, Dropout, Embedding, Flatten\n",
        "from tensorflow.keras.preprocessing import sequence\n",
        "\n",
        "# Set parameters\n",
        "max_features = 5000\n",
        "maxlen = 500\n",
        "batch_size = 32\n",
        "embedding_dims = 50\n",
        "epochs = 5\n",
        "\n",
        "# Load data\n",
        "(x_train, y_train), (x_test, y_test) = imdb.load_data(num_words=max_features)\n",
        "\n",
        "# Pad sequences to have a fixed length\n",
        "x_train = sequence.pad_sequences(x_train, maxlen=maxlen)\n",
        "x_test = sequence.pad_sequences(x_test, maxlen=maxlen)\n",
        "\n",
        "# Define model\n",
        "model = Sequential()\n",
        "model.add(Embedding(max_features, embedding_dims, input_length=maxlen))\n",
        "model.add(Flatten())\n",
        "model.add(Dense(64, activation='relu'))\n",
        "model.add(Dropout(0.5))\n",
        "model.add(Dense(1, activation='sigmoid'))\n",
        "\n",
        "# Compile model\n",
        "model.compile(loss='binary_crossentropy', optimizer='adam', metrics=['accuracy'])\n",
        "\n",
        "# Train model\n",
        "history = model.fit(x_train, y_train, batch_size=batch_size, epochs=epochs, validation_data=(x_test, y_test))\n",
        "\n",
        "# Evaluate model\n",
        "score = model.evaluate(x_test, y_test, verbose=0)\n",
        "print('Test loss:', score[0])\n",
        "print('Test accuracy:', score[1])\n",
        "\n",
        "\n"
      ],
      "metadata": {
        "colab": {
          "base_uri": "https://localhost:8080/"
        },
        "id": "G3zw0NKxtT6T",
        "outputId": "4013c55b-6190-4625-a207-01c6d66bb605"
      },
      "execution_count": 16,
      "outputs": [
        {
          "output_type": "stream",
          "name": "stdout",
          "text": [
            "Epoch 1/5\n",
            "782/782 [==============================] - 39s 49ms/step - loss: 0.4006 - accuracy: 0.8070 - val_loss: 0.2970 - val_accuracy: 0.8723\n",
            "Epoch 2/5\n",
            "782/782 [==============================] - 30s 38ms/step - loss: 0.1488 - accuracy: 0.9469 - val_loss: 0.3484 - val_accuracy: 0.8667\n",
            "Epoch 3/5\n",
            "782/782 [==============================] - 31s 39ms/step - loss: 0.0381 - accuracy: 0.9884 - val_loss: 0.4793 - val_accuracy: 0.8596\n",
            "Epoch 4/5\n",
            "782/782 [==============================] - 33s 43ms/step - loss: 0.0120 - accuracy: 0.9969 - val_loss: 0.6453 - val_accuracy: 0.8503\n",
            "Epoch 5/5\n",
            "782/782 [==============================] - 32s 40ms/step - loss: 0.0076 - accuracy: 0.9978 - val_loss: 0.7187 - val_accuracy: 0.8561\n",
            "Test loss: 0.7187427282333374\n",
            "Test accuracy: 0.8560799956321716\n"
          ]
        }
      ]
    },
    {
      "cell_type": "markdown",
      "source": [
        "Graphical representation of the loss\n",
        "\n",
        "```\n",
        "# This is formatted as code\n",
        "```\n",
        "\n"
      ],
      "metadata": {
        "id": "y1qQKL6CuN6k"
      }
    },
    {
      "cell_type": "code",
      "source": [
        "# Plot accuracy and loss over epochs\n",
        "import matplotlib.pyplot as plt\n",
        "plt.plot(history.history['accuracy'])\n",
        "plt.plot(history.history['val_accuracy'])\n",
        "plt.title('Model Accuracy')\n",
        "plt.ylabel('Accuracy')\n",
        "plt.xlabel('Epoch')\n",
        "plt.legend(['Train', 'Test'], loc='upper left')\n",
        "plt.show()\n",
        "\n"
      ],
      "metadata": {
        "colab": {
          "base_uri": "https://localhost:8080/",
          "height": 295
        },
        "id": "kILUmr6IuENX",
        "outputId": "96449dca-e443-4f1a-f765-8992194d5b0c"
      },
      "execution_count": 19,
      "outputs": [
        {
          "output_type": "display_data",
          "data": {
            "text/plain": [
              "<Figure size 432x288 with 1 Axes>"
            ],
            "image/png": "[encoded data removed]"
          },
          "metadata": {
            "needs_background": "light"
          }
        }
      ]
    },
    {
      "cell_type": "markdown",
      "source": [
        "Graphical representation of the loss"
      ],
      "metadata": {
        "id": "HnYhqpsKubl2"
      }
    },
    {
      "cell_type": "code",
      "source": [
        "plt.plot(history.history['loss'])\n",
        "plt.plot(history.history['val_loss'])\n",
        "plt.title('Model Loss')\n",
        "plt.ylabel('Loss')\n",
        "plt.xlabel('Epoch')\n",
        "plt.legend(['Train', 'Test'], loc='upper left')\n",
        "plt.show()"
      ],
      "metadata": {
        "colab": {
          "base_uri": "https://localhost:8080/",
          "height": 295
        },
        "id": "T8UbSz_suaz-",
        "outputId": "5c0e6152-b7fe-4d97-c80e-cb3eaf4bd9cb"
      },
      "execution_count": 20,
      "outputs": [
        {
          "output_type": "display_data",
          "data": {
            "text/plain": [
              "<Figure size 432x288 with 1 Axes>"
            ],
            "image/png": "[encoded data removed]"
          },
          "metadata": {
            "needs_background": "light"
          }
        }
      ]
    },
    {
      "cell_type": "markdown",
      "source": [
        "Model 4: 5 Hidden layers and 16 Nodes *Compiling, Setting up the sets and training my model*\n"
      ],
      "metadata": {
        "id": "JJIQUUaMuiVF"
      }
    },
    {
      "cell_type": "code",
      "source": [
        "from tensorflow.keras.models import Sequential\n",
        "from tensorflow.keras.layers import Dense, Dropout, Embedding\n",
        "from tensorflow.keras.preprocessing import sequence\n",
        "from tensorflow.keras import regularizers\n",
        "\n",
        "# Set parameters\n",
        "max_features = 5000\n",
        "maxlen = 300\n",
        "batch_size = 64\n",
        "embedding_dims = 50\n",
        "epochs = 10\n",
        "\n",
        "# Load data\n",
        "(x_train, y_train), (x_test, y_test) = imdb.load_data(num_words=max_features)\n",
        "\n",
        "# Pad sequences to have a fixed length\n",
        "x_train = sequence.pad_sequences(x_train, maxlen=maxlen)\n",
        "x_test = sequence.pad_sequences(x_test, maxlen=maxlen)\n",
        "\n",
        "# Build model\n",
        "model = Sequential()\n",
        "model.add(Embedding(max_features, embedding_dims, input_length=maxlen))\n",
        "model.add(Flatten())\n",
        "model.add(Dense(16, activation='relu', kernel_regularizer=regularizers.l2(0.001)))\n",
        "model.add(Dense(16, activation='relu', kernel_regularizer=regularizers.l2(0.001)))\n",
        "model.add(Dense(16, activation='relu', kernel_regularizer=regularizers.l2(0.001)))\n",
        "model.add(Dense(16, activation='relu', kernel_regularizer=regularizers.l2(0.001)))\n",
        "model.add(Dense(16, activation='relu', kernel_regularizer=regularizers.l2(0.001)))\n",
        "model.add(Dense(1, activation='sigmoid'))\n",
        "\n",
        "# Compile model\n",
        "model.compile(loss='binary_crossentropy', optimizer='adam', metrics=['accuracy'])\n",
        "\n",
        "# Fit model\n",
        "model.fit(x_train, y_train, batch_size=batch_size, epochs=epochs, validation_data=(x_test, y_test), verbose=2, callbacks=[tf.keras.callbacks.EarlyStopping(patience=2, restore_best_weights=True)])\n",
        "\n"
      ],
      "metadata": {
        "colab": {
          "base_uri": "https://localhost:8080/"
        },
        "id": "jvpc698Guz66",
        "outputId": "9e353b39-a447-4fc9-dfbe-8eb76618dc0a"
      },
      "execution_count": 22,
      "outputs": [
        {
          "output_type": "stream",
          "name": "stdout",
          "text": [
            "Epoch 1/10\n",
            "391/391 - 10s - loss: 0.5325 - accuracy: 0.7452 - val_loss: 0.3725 - val_accuracy: 0.8657 - 10s/epoch - 26ms/step\n",
            "Epoch 2/10\n",
            "391/391 - 7s - loss: 0.2764 - accuracy: 0.9204 - val_loss: 0.3949 - val_accuracy: 0.8702 - 7s/epoch - 19ms/step\n",
            "Epoch 3/10\n",
            "391/391 - 6s - loss: 0.1490 - accuracy: 0.9764 - val_loss: 0.4883 - val_accuracy: 0.8558 - 6s/epoch - 16ms/step\n"
          ]
        },
        {
          "output_type": "execute_result",
          "data": {
            "text/plain": [
              "<keras.callbacks.History at 0x7f559caf8d00>"
            ]
          },
          "metadata": {},
          "execution_count": 22
        }
      ]
    },
    {
      "cell_type": "code",
      "source": [
        "# Evaluate model\n",
        "score = model.evaluate(x_test, y_test, batch_size=batch_size, verbose=0)\n",
        "print('Test loss:', score[0])\n",
        "print('Test accuracy:', score[1])"
      ],
      "metadata": {
        "colab": {
          "base_uri": "https://localhost:8080/"
        },
        "id": "OehEdz_Zxaep",
        "outputId": "55861538-f97f-4afb-f35c-7556ba238429"
      },
      "execution_count": 27,
      "outputs": [
        {
          "output_type": "stream",
          "name": "stdout",
          "text": [
            "Test loss: 0.47619256377220154\n",
            "Test accuracy: 0.8582000136375427\n"
          ]
        }
      ]
    },
    {
      "cell_type": "code",
      "source": [
        "import matplotlib.pyplot as plt\n",
        "\n",
        "# Fit model\n",
        "history = model.fit(x_train, y_train, batch_size=batch_size, epochs=epochs, validation_data=(x_test, y_test), verbose=2, callbacks=[tf.keras.callbacks.EarlyStopping(patience=2, restore_best_weights=True)])\n"
      ],
      "metadata": {
        "colab": {
          "base_uri": "https://localhost:8080/"
        },
        "id": "NLK-kPMhwQOj",
        "outputId": "a6165b9e-7a3e-446d-bf21-443b2c174477"
      },
      "execution_count": 24,
      "outputs": [
        {
          "output_type": "stream",
          "name": "stdout",
          "text": [
            "Epoch 1/10\n",
            "391/391 - 9s - loss: 0.1474 - accuracy: 0.9729 - val_loss: 0.4762 - val_accuracy: 0.8582 - 9s/epoch - 23ms/step\n",
            "Epoch 2/10\n",
            "391/391 - 7s - loss: 0.1046 - accuracy: 0.9888 - val_loss: 0.5538 - val_accuracy: 0.8590 - 7s/epoch - 19ms/step\n",
            "Epoch 3/10\n",
            "391/391 - 8s - loss: 0.1008 - accuracy: 0.9890 - val_loss: 0.6043 - val_accuracy: 0.8538 - 8s/epoch - 21ms/step\n"
          ]
        }
      ]
    },
    {
      "cell_type": "markdown",
      "source": [
        "Graphical representation of the loss"
      ],
      "metadata": {
        "id": "xqDcPN0kwrOQ"
      }
    },
    {
      "cell_type": "code",
      "source": [
        "# Plot loss graph\n",
        "plt.plot(history.history['loss'])\n",
        "plt.plot(history.history['val_loss'])\n",
        "plt.title('Model Loss')\n",
        "plt.xlabel('Epoch')\n",
        "plt.ylabel('Loss')\n",
        "plt.legend(['train', 'test'], loc='upper left')\n",
        "plt.show()"
      ],
      "metadata": {
        "colab": {
          "base_uri": "https://localhost:8080/",
          "height": 295
        },
        "id": "Ir-46Xmvwm-Y",
        "outputId": "9c42806c-7a1e-438f-a6dc-42a1ebd9de9c"
      },
      "execution_count": 25,
      "outputs": [
        {
          "output_type": "display_data",
          "data": {
            "text/plain": [
              "<Figure size 432x288 with 1 Axes>"
            ],
            "image/png": "[encoded data removed]"
          },
          "metadata": {
            "needs_background": "light"
          }
        }
      ]
    },
    {
      "cell_type": "markdown",
      "source": [
        "Graphical representation of the accuracy"
      ],
      "metadata": {
        "id": "3oCaHlShw9xX"
      }
    },
    {
      "cell_type": "code",
      "source": [
        "# Plot accuracy graph\n",
        "plt.plot(history.history['accuracy'])\n",
        "plt.plot(history.history['val_accuracy'])\n",
        "plt.title('Model Accuracy')\n",
        "plt.xlabel('Epoch')\n",
        "plt.ylabel('Accuracy')\n",
        "plt.legend(['train', 'test'], loc='upper left')\n",
        "plt.show()"
      ],
      "metadata": {
        "colab": {
          "base_uri": "https://localhost:8080/",
          "height": 295
        },
        "id": "HubAdeq5w3JK",
        "outputId": "f4e3fcd2-7901-4e6f-da1f-e8c0b9c8b26c"
      },
      "execution_count": 26,
      "outputs": [
        {
          "output_type": "display_data",
          "data": {
            "text/plain": [
              "<Figure size 432x288 with 1 Axes>"
            ],
            "image/png": "[encoded data removed]"
          },
          "metadata": {
            "needs_background": "light"
          }
        }
      ]
    },
    {
      "cell_type": "markdown",
      "source": [
        "Generating a depiction of relation between loss percentiles"
      ],
      "metadata": {
        "id": "YkuqS_ikzg49"
      }
    },
    {
      "cell_type": "code",
      "source": [
        "loss_depiction = {'Model1': 0.80, 'Model2': 0.67, 'Model3': 0.71, 'Model4': 0.47, }\n",
        "\n",
        "models = list(loss_dict.keys())\n",
        "losses = list(loss_dict.values())\n",
        "\n",
        "# Plot the scatter plot with labels\n",
        "plt.scatter(models, losses, color='orange')\n",
        "plt.title('Performance Loss')\n",
        "plt.ylabel('Loss (%)')\n",
        "\n",
        "for (xi, yi) in zip(models, losses):\n",
        "    plt.text(xi, yi, str(yi), va='bottom', ha='center')\n",
        "\n",
        "plt.show()\n",
        "     "
      ],
      "metadata": {
        "colab": {
          "base_uri": "https://localhost:8080/",
          "height": 281
        },
        "id": "0_kRc2G3y5qY",
        "outputId": "db459de9-a145-401d-d46d-e12f8f82fcc9"
      },
      "execution_count": 33,
      "outputs": [
        {
          "output_type": "display_data",
          "data": {
            "text/plain": [
              "<Figure size 432x288 with 1 Axes>"
            ],
            "image/png": "[encoded data removed]"
          },
          "metadata": {
            "needs_background": "light"
          }
        }
      ]
    },
    {
      "cell_type": "markdown",
      "source": [
        "Generating a depiction of relation between accuracy percentiles"
      ],
      "metadata": {
        "id": "YOjGShynzpfG"
      }
    },
    {
      "cell_type": "code",
      "source": [
        "import matplotlib.pyplot as plt\n",
        "\n",
        "acc_depiction = {'Model1': 0.98, 'Model2': 0.84, 'Model3': 0.85, 'Model4': 0.85,}\n",
        "\n",
        "nodals = list(acc_depiction.keys())\n",
        "accuracy = list(acc_depiction.values())\n",
        "\n",
        "# Plot the scatter plot with labels\n",
        "plt.scatter(nodals, accuracy, color='green')\n",
        "plt.title('Performance Accuracy')\n",
        "plt.ylabel('Accuracy (%)')\n",
        "\n",
        "for (xi, yi) in zip(nodals, accuracy):\n",
        "  plt.text(xi, yi, str(yi), va='bottom', ha='center')\n",
        "\n",
        "plt.show()"
      ],
      "metadata": {
        "colab": {
          "base_uri": "https://localhost:8080/",
          "height": 281
        },
        "id": "duRnWdcYzvro",
        "outputId": "e5c81d45-6dea-49c6-d3c8-a104ae8e37f0"
      },
      "execution_count": 32,
      "outputs": [
        {
          "output_type": "display_data",
          "data": {
            "text/plain": [
              "<Figure size 432x288 with 1 Axes>"
            ],
            "image/png": "[encoded data removed]"
          },
          "metadata": {
            "needs_background": "light"
          }
        }
      ]
    }
  ]
}